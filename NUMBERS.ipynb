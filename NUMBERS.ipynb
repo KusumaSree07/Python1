{
  "nbformat": 4,
  "nbformat_minor": 0,
  "metadata": {
    "colab": {
      "provenance": []
    },
    "kernelspec": {
      "name": "python3",
      "display_name": "Python 3"
    },
    "language_info": {
      "name": "python"
    }
  },
  "cells": [
    {
      "cell_type": "markdown",
      "source": [],
      "metadata": {
        "id": "LL4foNq2wN-O"
      }
    },
    {
      "cell_type": "code",
      "execution_count": null,
      "metadata": {
        "id": "5a6B-B999oPM",
        "colab": {
          "base_uri": "https://localhost:8080/"
        },
        "outputId": "ad9755ea-0f32-416e-b722-22047c8fd65a"
      },
      "outputs": [
        {
          "output_type": "execute_result",
          "data": {
            "text/plain": [
              "15"
            ]
          },
          "metadata": {},
          "execution_count": 1
        }
      ],
      "source": [
        "10+5"
      ]
    },
    {
      "cell_type": "code",
      "source": [
        "10-5"
      ],
      "metadata": {
        "id": "peJubpfY96R4",
        "colab": {
          "base_uri": "https://localhost:8080/"
        },
        "outputId": "45a215d9-638b-4cd8-f447-9e4fc6b366ec"
      },
      "execution_count": null,
      "outputs": [
        {
          "output_type": "execute_result",
          "data": {
            "text/plain": [
              "5"
            ]
          },
          "metadata": {},
          "execution_count": 2
        }
      ]
    },
    {
      "cell_type": "code",
      "source": [
        "2*3"
      ],
      "metadata": {
        "id": "owYivV3X96ai",
        "colab": {
          "base_uri": "https://localhost:8080/"
        },
        "outputId": "92796bfa-b049-435e-c156-f918e92c1659"
      },
      "execution_count": null,
      "outputs": [
        {
          "output_type": "execute_result",
          "data": {
            "text/plain": [
              "6"
            ]
          },
          "metadata": {},
          "execution_count": 3
        }
      ]
    },
    {
      "cell_type": "code",
      "source": [
        "2**3"
      ],
      "metadata": {
        "id": "_4cYN5VE94H2",
        "colab": {
          "base_uri": "https://localhost:8080/"
        },
        "outputId": "6717bf7a-2147-42a9-c6fb-993e70299f50"
      },
      "execution_count": null,
      "outputs": [
        {
          "output_type": "execute_result",
          "data": {
            "text/plain": [
              "8"
            ]
          },
          "metadata": {},
          "execution_count": 4
        }
      ]
    },
    {
      "cell_type": "code",
      "source": [
        "3**2"
      ],
      "metadata": {
        "id": "IZJhNdst94Lr",
        "colab": {
          "base_uri": "https://localhost:8080/"
        },
        "outputId": "e4c76a59-80ed-496d-ed81-a839a931cb0d"
      },
      "execution_count": null,
      "outputs": [
        {
          "output_type": "execute_result",
          "data": {
            "text/plain": [
              "9"
            ]
          },
          "metadata": {},
          "execution_count": 5
        }
      ]
    },
    {
      "cell_type": "code",
      "source": [
        "10/5"
      ],
      "metadata": {
        "id": "81VrQYfl94O8",
        "colab": {
          "base_uri": "https://localhost:8080/"
        },
        "outputId": "e9f1fa71-c47f-4ab1-f9f0-ab07c3ba5bdc"
      },
      "execution_count": null,
      "outputs": [
        {
          "output_type": "execute_result",
          "data": {
            "text/plain": [
              "2.0"
            ]
          },
          "metadata": {},
          "execution_count": 6
        }
      ]
    },
    {
      "cell_type": "code",
      "source": [
        "10//5"
      ],
      "metadata": {
        "id": "Jt6pD5BM94TX",
        "colab": {
          "base_uri": "https://localhost:8080/"
        },
        "outputId": "b732eb2a-2d23-4f3a-e63d-e8d622e0418b"
      },
      "execution_count": null,
      "outputs": [
        {
          "output_type": "execute_result",
          "data": {
            "text/plain": [
              "2"
            ]
          },
          "metadata": {},
          "execution_count": 7
        }
      ]
    },
    {
      "cell_type": "code",
      "source": [
        "# BODMAS (BRACKET, ORDER, DIVISION, MULTIPLICATION, ADDTION, SUBTRACTION)\n",
        "(10+5)*2"
      ],
      "metadata": {
        "id": "9as_jgbx94W8",
        "colab": {
          "base_uri": "https://localhost:8080/"
        },
        "outputId": "aac77f58-c7fb-4227-ef55-8fa04351f2de"
      },
      "execution_count": null,
      "outputs": [
        {
          "output_type": "execute_result",
          "data": {
            "text/plain": [
              "30"
            ]
          },
          "metadata": {},
          "execution_count": 8
        }
      ]
    },
    {
      "cell_type": "code",
      "source": [
        "10+5*2"
      ],
      "metadata": {
        "id": "28NuBP9m94aW",
        "colab": {
          "base_uri": "https://localhost:8080/"
        },
        "outputId": "c389def1-90ac-452f-8efa-812735ba7a26"
      },
      "execution_count": null,
      "outputs": [
        {
          "output_type": "execute_result",
          "data": {
            "text/plain": [
              "20"
            ]
          },
          "metadata": {},
          "execution_count": 9
        }
      ]
    },
    {
      "cell_type": "code",
      "source": [
        "_+3"
      ],
      "metadata": {
        "id": "kWQ3u2MX94fO",
        "colab": {
          "base_uri": "https://localhost:8080/"
        },
        "outputId": "c1a57ecc-e110-446c-b643-3385afb78666"
      },
      "execution_count": null,
      "outputs": [
        {
          "output_type": "execute_result",
          "data": {
            "text/plain": [
              "23"
            ]
          },
          "metadata": {},
          "execution_count": 10
        }
      ]
    },
    {
      "cell_type": "code",
      "source": [
        "_+3"
      ],
      "metadata": {
        "colab": {
          "base_uri": "https://localhost:8080/"
        },
        "id": "qjwRcfA8c-91",
        "outputId": "81bb8b3c-e2a1-4990-d4cf-e05785f03d03"
      },
      "execution_count": null,
      "outputs": [
        {
          "output_type": "execute_result",
          "data": {
            "text/plain": [
              "26"
            ]
          },
          "metadata": {},
          "execution_count": 11
        }
      ]
    },
    {
      "cell_type": "code",
      "source": [],
      "metadata": {
        "id": "Ag9IXgB2dBAQ"
      },
      "execution_count": null,
      "outputs": []
    }
  ]
}